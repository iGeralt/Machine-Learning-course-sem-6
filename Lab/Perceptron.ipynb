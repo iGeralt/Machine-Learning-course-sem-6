{
 "cells": [
  {
   "cell_type": "code",
   "execution_count": 1,
   "metadata": {},
   "outputs": [],
   "source": [
    "import numpy as np\n",
    "import pandas as pd\n",
    "import matplotlib.pyplot as plt"
   ]
  },
  {
   "cell_type": "code",
   "execution_count": 39,
   "metadata": {},
   "outputs": [
    {
     "data": {
      "text/plain": [
       "<matplotlib.collections.PathCollection at 0x7f204b1550f0>"
      ]
     },
     "execution_count": 39,
     "metadata": {},
     "output_type": "execute_result"
    },
    {
     "data": {
      "image/png": "[encoded data removed]",
      "text/plain": [
       "<matplotlib.figure.Figure at 0x7f204b1847f0>"
      ]
     },
     "metadata": {
      "needs_background": "light"
     },
     "output_type": "display_data"
    }
   ],
   "source": [
    "p = [[0,0],[5,5]]\n",
    "labels = [-1,1]\n",
    "plt.scatter(p[0][1],p[0][0],color = \"red\")\n",
    "plt.scatter(p[1][1],p[1][0],color = \"blue\")"
   ]
  },
  {
   "cell_type": "code",
   "execution_count": 65,
   "metadata": {},
   "outputs": [
    {
     "data": {
      "text/plain": [
       "array([[0.02252124],\n",
       "       [0.66791674]])"
      ]
     },
     "execution_count": 65,
     "metadata": {},
     "output_type": "execute_result"
    }
   ],
   "source": [
    "w = np.array(np.random.rand(2,1))\n",
    "b = np.random.rand(1)\n",
    "w\n",
    "xc = np.linspace(-2,7,100)\n",
    "plt.plot()"
   ]
  },
  {
   "cell_type": "code",
   "execution_count": 66,
   "metadata": {},
   "outputs": [],
   "source": [
    "def perceptron(X,W,lab,d):\n",
    "    for i in range(len(X)):\n",
    "        x1 = X[i][0]\n",
    "        x2 = X[i][1]\n",
    "        if W[0]*x1 + W[1]*x2 - d > 0:\n",
    "            label_as = 1\n",
    "        else:\n",
    "            label_as = -1\n",
    "        if label_as > lab[0]:\n",
    "            w[0] -= x1\n",
    "            w[1] -= x2\n",
    "            d -= 1\n",
    "        if label_as < lab[1]:\n",
    "            w[0] += x1\n",
    "            w[1] += x2\n",
    "            d += 1\n",
    "    return [W,d]"
   ]
  },
  {
   "cell_type": "code",
   "execution_count": 75,
   "metadata": {},
   "outputs": [],
   "source": [
    "w,b = perceptron(p,w,labels,b)"
   ]
  },
  {
   "cell_type": "code",
   "execution_count": 77,
   "metadata": {},
   "outputs": [],
   "source": []
  },
  {
   "cell_type": "code",
   "execution_count": null,
   "metadata": {},
   "outputs": [],
   "source": []
  }
 ],
 "metadata": {
  "kernelspec": {
   "display_name": "Python 3",
   "language": "python",
   "name": "python3"
  },
  "language_info": {
   "codemirror_mode": {
    "name": "ipython",
    "version": 3
   },
   "file_extension": ".py",
   "mimetype": "text/x-python",
   "name": "python",
   "nbconvert_exporter": "python",
   "pygments_lexer": "ipython3",
   "version": "3.6.9"
  }
 },
 "nbformat": 4,
 "nbformat_minor": 4
}
