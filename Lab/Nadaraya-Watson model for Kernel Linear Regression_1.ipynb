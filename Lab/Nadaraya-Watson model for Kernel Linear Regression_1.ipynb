{
 "cells": [
  {
   "cell_type": "code",
   "execution_count": 118,
   "metadata": {},
   "outputs": [],
   "source": [
    "import numpy as np\n",
    "import matplotlib.pyplot as plt\n",
    "from scipy.stats import norm\n",
    "import pandas as pd"
   ]
  },
  {
   "cell_type": "code",
   "execution_count": null,
   "metadata": {},
   "outputs": [],
   "source": []
  },
  {
   "cell_type": "code",
   "execution_count": 119,
   "metadata": {},
   "outputs": [],
   "source": [
    "x = np.linspace(0,2*np.pi,100)\n",
    "y = np.sin(x)\n",
    "aa = np.reshape(x,(100,1))"
   ]
  },
  {
   "cell_type": "code",
   "execution_count": 120,
   "metadata": {},
   "outputs": [],
   "source": [
    "xx_data = [0.1,0.2,1.25,1.4,1.45,2.0,3.0,4.0,5.0,6.6]\n",
    "x_data = np.array(xx_data).reshape(10,1)\n",
    "y_data = np.sin(x_data)+(0.31*np.random.randn(10,1))"
   ]
  },
  {
   "cell_type": "code",
   "execution_count": 147,
   "metadata": {},
   "outputs": [
    {
     "name": "stdout",
     "output_type": "stream",
     "text": [
      "           0\n",
      "0   0.003458\n",
      "1   0.003566\n",
      "2   0.003707\n",
      "3   0.003889\n",
      "4   0.004122\n",
      "..       ...\n",
      "95  0.004415\n",
      "96  0.005237\n",
      "97  0.005848\n",
      "98  0.006287\n",
      "99  0.006596\n",
      "\n",
      "[100 rows x 1 columns]\n",
      "           0\n",
      "0   0.003458\n",
      "1   0.007023\n",
      "2   0.010730\n",
      "3   0.014619\n",
      "4   0.018740\n",
      "..       ...\n",
      "95  0.293128\n",
      "96  0.298364\n",
      "97  0.304212\n",
      "98  0.310499\n",
      "99  0.317095\n",
      "\n",
      "[100 rows x 1 columns]\n",
      "0     0.003458\n",
      "1     0.007023\n",
      "2     0.010730\n",
      "3     0.014619\n",
      "4     0.018740\n",
      "        ...   \n",
      "95    0.293128\n",
      "96    0.298364\n",
      "97    0.304212\n",
      "98    0.310499\n",
      "99    0.317095\n",
      "Length: 100, dtype: float64\n",
      "0    NaN\n",
      "1    NaN\n",
      "2    NaN\n",
      "3    NaN\n",
      "4    NaN\n",
      "      ..\n",
      "95   NaN\n",
      "96   NaN\n",
      "97   NaN\n",
      "98   NaN\n",
      "99   NaN\n",
      "Length: 100, dtype: float64\n"
     ]
    },
    {
     "data": {
      "text/plain": [
       "<matplotlib.collections.PolyCollection at 0x7f124d778ef0>"
      ]
     },
     "execution_count": 147,
     "metadata": {},
     "output_type": "execute_result"
    },
    {
     "data": {
      "image/png": "[encoded data removed]",
      "text/plain": [
       "<Figure size 432x288 with 1 Axes>"
      ]
     },
     "metadata": {
      "needs_background": "light"
     },
     "output_type": "display_data"
    }
   ],
   "source": [
    "xx_datp = []\n",
    "\n",
    "#kernel\n",
    "\n",
    "xx_datp = norm.pdf(aa,xx_data,1/2)\n",
    "sum_k = np.sum(xx_datp,axis=1)\n",
    "d = xx_datp.T/sum_k\n",
    "dd=pd.DataFrame(d)\n",
    "dd=sdd.T  \n",
    "yy = pd.DataFrame.dot(sdd,y_data)\n",
    "\n",
    "\n",
    "S1 = 0.002 + 0.01*yy\n",
    "print(S1)\n",
    "X1 = S1.cumsum(axis=0)\n",
    "print(X1)\n",
    "mu1 = X1.mean(axis=1)\n",
    "print(mu1)\n",
    "sigma1 = X1.std(axis=1)\n",
    "print(sigma1)\n",
    "\n",
    "\n",
    "fig = plt.figure()\n",
    "plt.plot(aa,y,color=\"lime\")\n",
    "plt.plot(aa,yy,color=\"r\")\n",
    "plt.scatter(xx_data,y_data)\n",
    "ax = plt.gca()\n",
    "for i in range(10):\n",
    "    c=plt.Circle((x_data[i], y_data[i]), sd/6, color = 'blue', fill = False)\n",
    "    ax.add_artist(c)\n",
    "fig.savefig('temp.pdf', dpi=fig.dpi)\n",
    "\n",
    "\n",
    "ax.fill_between(range(100), 5*(mu1+sigma1), 5*(mu1-sigma1), facecolor='blue', alpha=0.2)"
   ]
  },
  {
   "cell_type": "code",
   "execution_count": null,
   "metadata": {},
   "outputs": [],
   "source": []
  },
  {
   "cell_type": "code",
   "execution_count": null,
   "metadata": {},
   "outputs": [],
   "source": []
  },
  {
   "cell_type": "code",
   "execution_count": null,
   "metadata": {},
   "outputs": [],
   "source": []
  },
  {
   "cell_type": "code",
   "execution_count": null,
   "metadata": {},
   "outputs": [],
   "source": []
  },
  {
   "cell_type": "code",
   "execution_count": null,
   "metadata": {},
   "outputs": [],
   "source": []
  },
  {
   "cell_type": "code",
   "execution_count": null,
   "metadata": {},
   "outputs": [],
   "source": []
  }
 ],
 "metadata": {
  "kernelspec": {
   "display_name": "Python 3",
   "language": "python",
   "name": "python3"
  },
  "language_info": {
   "codemirror_mode": {
    "name": "ipython",
    "version": 3
   },
   "file_extension": ".py",
   "mimetype": "text/x-python",
   "name": "python",
   "nbconvert_exporter": "python",
   "pygments_lexer": "ipython3",
   "version": "3.6.9"
  }
 },
 "nbformat": 4,
 "nbformat_minor": 4
}
